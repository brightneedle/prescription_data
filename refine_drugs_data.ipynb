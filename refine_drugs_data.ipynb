{
 "cells": [
  {
   "cell_type": "code",
   "execution_count": 10,
   "metadata": {},
   "outputs": [
    {
     "name": "stdout",
     "output_type": "stream",
     "text": [
      "Index(['HB', 'Locality', 'PracticeID', 'BNFCode', 'BNFName', 'Items', 'NIC',\n",
      "       'ActCost', 'Quantity', 'DDD', 'ADQ', 'Period'],\n",
      "      dtype='object')\n",
      "Index(['Period', 'PracticeId', 'Locality', 'Street', 'Area', 'Posttown',\n",
      "       'County', 'Postcode', 'lat', 'long', 'PsuPracticeCode', 'ClusterID',\n",
      "       '0Period'],\n",
      "      dtype='object')\n"
     ]
    }
   ],
   "source": [
    "import pandas as pd\n",
    "import numpy as np\n",
    "\n",
    "filename = 'GPdata' # GPdata or HospData\n",
    "path = 'gp_data' # gp_data or hosp_data\n",
    "\n",
    "data = pd.read_csv(f'{path}/All{filename}.csv')\n",
    "addresses = pd.read_csv(f'{path}/AllAddresses_NoDup.csv')\n",
    "\n",
    "print(data.columns)\n",
    "print(addresses.columns)"
   ]
  },
  {
   "cell_type": "code",
   "execution_count": 14,
   "metadata": {},
   "outputs": [
    {
     "name": "stdout",
     "output_type": "stream",
     "text": [
      "['W94035' 'W91002' 'W91636' 'W00032' 'W00111']\n",
      "['W93001' 'W93004' 'W93008' 'W94635' 'W93017']\n"
     ]
    }
   ],
   "source": [
    "print(data['PracticeID'].unique()[:5])\n",
    "print(addresses['PracticeId'].unique()[:5])"
   ]
  },
  {
   "cell_type": "code",
   "execution_count": 16,
   "metadata": {},
   "outputs": [
    {
     "data": {
      "text/plain": [
       "Series([], Name: ClusterID, dtype: float64)"
      ]
     },
     "execution_count": 16,
     "metadata": {},
     "output_type": "execute_result"
    }
   ],
   "source": [
    "data_w_cluster_id = data.merge(addresses,\n",
    "                                left_on='PracticeID',\n",
    "                                right_on='PracticeId',\n",
    "                                how='left')\n",
    "\n",
    "data_w_cluster_id['ClusterID'].dropna()"
   ]
  },
  {
   "cell_type": "code",
   "execution_count": 17,
   "metadata": {},
   "outputs": [],
   "source": [
    "IDs = addresses['PracticeId'] # 'PracticeId' or 'Id'\n",
    "post_codes = addresses['Postcode']\n",
    "cluster_id = addresses['ClusterID']\n",
    "\n",
    "lookup = dict(zip(IDs, post_codes))"
   ]
  },
  {
   "cell_type": "code",
   "execution_count": 18,
   "metadata": {},
   "outputs": [
    {
     "ename": "KeyboardInterrupt",
     "evalue": "",
     "output_type": "error",
     "traceback": [
      "\u001b[0;31m---------------------------------------------------------------------------\u001b[0m",
      "\u001b[0;31mKeyboardInterrupt\u001b[0m                         Traceback (most recent call last)",
      "Cell \u001b[0;32mIn[18], line 4\u001b[0m\n\u001b[1;32m      1\u001b[0m codes\u001b[39m=\u001b[39m[]\n\u001b[1;32m      3\u001b[0m \u001b[39mfor\u001b[39;00m idx, row \u001b[39min\u001b[39;00m data\u001b[39m.\u001b[39miterrows():\n\u001b[0;32m----> 4\u001b[0m     Id \u001b[39m=\u001b[39m row[\u001b[39m'\u001b[39;49m\u001b[39mPracticeID\u001b[39;49m\u001b[39m'\u001b[39;49m] \u001b[39m# 'PracticeID' of 'Hospital'\u001b[39;00m\n\u001b[1;32m      5\u001b[0m     \u001b[39mif\u001b[39;00m \u001b[39mstr\u001b[39m(Id) \u001b[39min\u001b[39;00m lookup\u001b[39m.\u001b[39mkeys():\n\u001b[1;32m      6\u001b[0m         code \u001b[39m=\u001b[39m lookup[\u001b[39mstr\u001b[39m(Id)]\n",
      "File \u001b[0;32m~/opt/anaconda3/envs/default/lib/python3.9/site-packages/pandas/core/series.py:958\u001b[0m, in \u001b[0;36mSeries.__getitem__\u001b[0;34m(self, key)\u001b[0m\n\u001b[1;32m    955\u001b[0m     \u001b[39mreturn\u001b[39;00m \u001b[39mself\u001b[39m\u001b[39m.\u001b[39m_values[key]\n\u001b[1;32m    957\u001b[0m \u001b[39melif\u001b[39;00m key_is_scalar:\n\u001b[0;32m--> 958\u001b[0m     \u001b[39mreturn\u001b[39;00m \u001b[39mself\u001b[39;49m\u001b[39m.\u001b[39;49m_get_value(key)\n\u001b[1;32m    960\u001b[0m \u001b[39mif\u001b[39;00m is_hashable(key):\n\u001b[1;32m    961\u001b[0m     \u001b[39m# Otherwise index.get_value will raise InvalidIndexError\u001b[39;00m\n\u001b[1;32m    962\u001b[0m     \u001b[39mtry\u001b[39;00m:\n\u001b[1;32m    963\u001b[0m         \u001b[39m# For labels that don't resolve as scalars like tuples and frozensets\u001b[39;00m\n",
      "File \u001b[0;32m~/opt/anaconda3/envs/default/lib/python3.9/site-packages/pandas/core/series.py:1070\u001b[0m, in \u001b[0;36mSeries._get_value\u001b[0;34m(self, label, takeable)\u001b[0m\n\u001b[1;32m   1068\u001b[0m \u001b[39m# Similar to Index.get_value, but we do not fall back to positional\u001b[39;00m\n\u001b[1;32m   1069\u001b[0m loc \u001b[39m=\u001b[39m \u001b[39mself\u001b[39m\u001b[39m.\u001b[39mindex\u001b[39m.\u001b[39mget_loc(label)\n\u001b[0;32m-> 1070\u001b[0m \u001b[39mreturn\u001b[39;00m \u001b[39mself\u001b[39;49m\u001b[39m.\u001b[39;49mindex\u001b[39m.\u001b[39;49m_get_values_for_loc(\u001b[39mself\u001b[39;49m, loc, label)\n",
      "File \u001b[0;32m~/opt/anaconda3/envs/default/lib/python3.9/site-packages/pandas/core/indexes/base.py:5656\u001b[0m, in \u001b[0;36mIndex._get_values_for_loc\u001b[0;34m(self, series, loc, key)\u001b[0m\n\u001b[1;32m   5647\u001b[0m \u001b[39m\"\"\"\u001b[39;00m\n\u001b[1;32m   5648\u001b[0m \u001b[39mDo a positional lookup on the given Series, returning either a scalar\u001b[39;00m\n\u001b[1;32m   5649\u001b[0m \u001b[39mor a Series.\u001b[39;00m\n\u001b[0;32m   (...)\u001b[0m\n\u001b[1;32m   5653\u001b[0m \u001b[39mkey is included for MultiIndex compat.\u001b[39;00m\n\u001b[1;32m   5654\u001b[0m \u001b[39m\"\"\"\u001b[39;00m\n\u001b[1;32m   5655\u001b[0m \u001b[39mif\u001b[39;00m is_integer(loc):\n\u001b[0;32m-> 5656\u001b[0m     \u001b[39mreturn\u001b[39;00m series\u001b[39m.\u001b[39;49m_values[loc]\n\u001b[1;32m   5658\u001b[0m \u001b[39mreturn\u001b[39;00m series\u001b[39m.\u001b[39miloc[loc]\n",
      "File \u001b[0;32m~/opt/anaconda3/envs/default/lib/python3.9/site-packages/pandas/core/series.py:719\u001b[0m, in \u001b[0;36mSeries._values\u001b[0;34m(self)\u001b[0m\n\u001b[1;32m    687\u001b[0m \u001b[39m@property\u001b[39m\n\u001b[1;32m    688\u001b[0m \u001b[39mdef\u001b[39;00m \u001b[39m_values\u001b[39m(\u001b[39mself\u001b[39m):\n\u001b[1;32m    689\u001b[0m     \u001b[39m\"\"\"\u001b[39;00m\n\u001b[1;32m    690\u001b[0m \u001b[39m    Return the internal repr of this data (defined by Block.interval_values).\u001b[39;00m\n\u001b[1;32m    691\u001b[0m \u001b[39m    This are the values as stored in the Block (ndarray or ExtensionArray\u001b[39;00m\n\u001b[0;32m   (...)\u001b[0m\n\u001b[1;32m    717\u001b[0m \n\u001b[1;32m    718\u001b[0m \u001b[39m    \"\"\"\u001b[39;00m\n\u001b[0;32m--> 719\u001b[0m     \u001b[39mreturn\u001b[39;00m \u001b[39mself\u001b[39;49m\u001b[39m.\u001b[39;49m_mgr\u001b[39m.\u001b[39;49minternal_values()\n",
      "File \u001b[0;32m~/opt/anaconda3/envs/default/lib/python3.9/site-packages/pandas/core/internals/managers.py:1850\u001b[0m, in \u001b[0;36mSingleBlockManager.internal_values\u001b[0;34m(self)\u001b[0m\n\u001b[1;32m   1848\u001b[0m \u001b[39mdef\u001b[39;00m \u001b[39minternal_values\u001b[39m(\u001b[39mself\u001b[39m):\n\u001b[1;32m   1849\u001b[0m     \u001b[39m\"\"\"The array that Series._values returns\"\"\"\u001b[39;00m\n\u001b[0;32m-> 1850\u001b[0m     \u001b[39mreturn\u001b[39;00m \u001b[39mself\u001b[39;49m\u001b[39m.\u001b[39;49m_block\u001b[39m.\u001b[39mvalues\n",
      "File \u001b[0;32m~/opt/anaconda3/envs/default/lib/python3.9/site-packages/pandas/_libs/properties.pyx:37\u001b[0m, in \u001b[0;36mpandas._libs.properties.CachedProperty.__get__\u001b[0;34m()\u001b[0m\n",
      "File \u001b[0;32m~/opt/anaconda3/envs/default/lib/python3.9/site-packages/pandas/core/internals/managers.py:1794\u001b[0m, in \u001b[0;36mSingleBlockManager._block\u001b[0;34m(self)\u001b[0m\n\u001b[1;32m   1792\u001b[0m \u001b[39m@cache_readonly\u001b[39m\n\u001b[1;32m   1793\u001b[0m \u001b[39mdef\u001b[39;00m \u001b[39m_block\u001b[39m(\u001b[39mself\u001b[39m) \u001b[39m-\u001b[39m\u001b[39m>\u001b[39m Block:\n\u001b[0;32m-> 1794\u001b[0m     \u001b[39mreturn\u001b[39;00m \u001b[39mself\u001b[39;49m\u001b[39m.\u001b[39;49mblocks[\u001b[39m0\u001b[39;49m]\n",
      "\u001b[0;31mKeyboardInterrupt\u001b[0m: "
     ]
    }
   ],
   "source": [
    "codes=[]\n",
    "\n",
    "for idx, row in data.iterrows():\n",
    "    Id = row['PracticeID'] # 'PracticeID' of 'Hospital'\n",
    "    if str(Id) in lookup.keys():\n",
    "        code = lookup[str(Id)]\n",
    "        codes.append(code)\n",
    "    else: codes.append('Not found')\n",
    "\n",
    "filtered['PostCode'] = codes\n",
    "\n",
    "print(len(filtered))"
   ]
  },
  {
   "cell_type": "code",
   "execution_count": null,
   "metadata": {},
   "outputs": [],
   "source": [
    "data.to_csv(f'{path}/Filtered{filename}.csv.zip', index=False, compression='gzip')"
   ]
  }
 ],
 "metadata": {
  "kernelspec": {
   "display_name": "default",
   "language": "python",
   "name": "python3"
  },
  "language_info": {
   "codemirror_mode": {
    "name": "ipython",
    "version": 3
   },
   "file_extension": ".py",
   "mimetype": "text/x-python",
   "name": "python",
   "nbconvert_exporter": "python",
   "pygments_lexer": "ipython3",
   "version": "3.9.15"
  },
  "orig_nbformat": 4,
  "vscode": {
   "interpreter": {
    "hash": "4266e6dace8d85e8ef498d0cc69dcc6a84862bc500ae4a3e32d3d9776d1ca4f0"
   }
  }
 },
 "nbformat": 4,
 "nbformat_minor": 2
}
