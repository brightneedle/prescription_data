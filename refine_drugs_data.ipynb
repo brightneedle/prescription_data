{
 "cells": [
  {
   "cell_type": "code",
   "execution_count": 9,
   "metadata": {},
   "outputs": [
    {
     "name": "stdout",
     "output_type": "stream",
     "text": [
      "Index(['HB', 'Locality', 'PracticeID', 'BNFCode', 'BNFName', 'Items', 'NIC',\n",
      "       'ActCost', 'Quantity', 'DDD', 'ADQ', 'Period'],\n",
      "      dtype='object')\n",
      "Index(['Period', 'PracticeId', 'Locality', 'Street', 'Area', 'Posttown',\n",
      "       'County', 'Postcode', 'lat', 'long', 'PsuPracticeCode', 'ClusterID',\n",
      "       '0Period'],\n",
      "      dtype='object')\n"
     ]
    }
   ],
   "source": [
    "import pandas as pd\n",
    "import numpy as np\n",
    "\n",
    "filename = 'GPdata' # GPdata or HospData\n",
    "path = 'gp_data' # gp_data or hosp_data\n",
    "\n",
    "data = pd.read_csv(f'{path}/All{filename}.csv')\n",
    "addresses = pd.read_csv(f'{path}/AllAddresses_NoDup.csv')\n",
    "\n",
    "print(data.columns)\n",
    "print(addresses.columns)"
   ]
  },
  {
   "cell_type": "code",
   "execution_count": 16,
   "metadata": {},
   "outputs": [
    {
     "name": "stdout",
     "output_type": "stream",
     "text": [
      "0         W94035\n",
      "1         W91002\n",
      "2         W91002\n",
      "3         W91002\n",
      "4         W91002\n",
      "           ...  \n",
      "695271    W91037\n",
      "695272    W91037\n",
      "695273    W91037\n",
      "695274    W91039\n",
      "695275    W91622\n",
      "Name: PracticeID, Length: 695276, dtype: object\n",
      "0      W93001\n",
      "1      W93004\n",
      "2      W93008\n",
      "3      W94635\n",
      "4      W93017\n",
      "        ...  \n",
      "791    W00189\n",
      "792    W00191\n",
      "793    W00192\n",
      "794    W00195\n",
      "795    W00194\n",
      "Name: PracticeId, Length: 796, dtype: object\n"
     ]
    }
   ],
   "source": [
    "data['PracticeID'] = data['PracticeID'].astype(str)\n",
    "addresses['PracticeId'] = addresses['PracticeId'].astype(str)\n",
    "\n",
    "print(data['PracticeID'])\n",
    "print(addresses['PracticeId'])"
   ]
  },
  {
   "cell_type": "code",
   "execution_count": 17,
   "metadata": {},
   "outputs": [
    {
     "data": {
      "text/plain": [
       "Series([], Name: ClusterID, dtype: float64)"
      ]
     },
     "execution_count": 17,
     "metadata": {},
     "output_type": "execute_result"
    }
   ],
   "source": [
    "data_w_cluster_id = pd.merge(data, addresses,\n",
    "                                left_on='PracticeID',\n",
    "                                right_on='PracticeId',\n",
    "                                how='left')\n",
    "\n",
    "data_w_cluster_id['ClusterID'].dropna()"
   ]
  },
  {
   "cell_type": "code",
   "execution_count": 18,
   "metadata": {},
   "outputs": [],
   "source": [
    "IDs = addresses['PracticeId'] # 'PracticeId' or 'Id'\n",
    "post_codes = addresses['Postcode']\n",
    "cluster_id = addresses['ClusterID']\n",
    "\n",
    "lookup = dict(zip(IDs, post_codes))"
   ]
  },
  {
   "cell_type": "code",
   "execution_count": 19,
   "metadata": {},
   "outputs": [
    {
     "ename": "NameError",
     "evalue": "name 'filtered' is not defined",
     "output_type": "error",
     "traceback": [
      "\u001b[0;31m---------------------------------------------------------------------------\u001b[0m",
      "\u001b[0;31mNameError\u001b[0m                                 Traceback (most recent call last)",
      "Cell \u001b[0;32mIn[19], line 10\u001b[0m\n\u001b[1;32m      7\u001b[0m         codes\u001b[39m.\u001b[39mappend(code)\n\u001b[1;32m      8\u001b[0m     \u001b[39melse\u001b[39;00m: codes\u001b[39m.\u001b[39mappend(\u001b[39m'\u001b[39m\u001b[39mNot found\u001b[39m\u001b[39m'\u001b[39m)\n\u001b[0;32m---> 10\u001b[0m filtered[\u001b[39m'\u001b[39m\u001b[39mPostCode\u001b[39m\u001b[39m'\u001b[39m] \u001b[39m=\u001b[39m codes\n\u001b[1;32m     12\u001b[0m \u001b[39mprint\u001b[39m(\u001b[39mlen\u001b[39m(filtered))\n",
      "\u001b[0;31mNameError\u001b[0m: name 'filtered' is not defined"
     ]
    }
   ],
   "source": [
    "codes=[]\n",
    "\n",
    "for idx, row in data.iterrows():\n",
    "    Id = row['PracticeID'] # 'PracticeID' of 'Hospital'\n",
    "    if str(Id) in lookup.keys():\n",
    "        code = lookup[str(Id)]\n",
    "        codes.append(code)\n",
    "    else: codes.append('Not found')\n",
    "\n",
    "filtered['PostCode'] = codes\n",
    "\n",
    "print(len(filtered))"
   ]
  },
  {
   "cell_type": "code",
   "execution_count": null,
   "metadata": {},
   "outputs": [],
   "source": [
    "data.to_csv(f'{path}/Filtered{filename}.csv.zip', index=False, compression='gzip')"
   ]
  }
 ],
 "metadata": {
  "kernelspec": {
   "display_name": "default",
   "language": "python",
   "name": "python3"
  },
  "language_info": {
   "codemirror_mode": {
    "name": "ipython",
    "version": 3
   },
   "file_extension": ".py",
   "mimetype": "text/x-python",
   "name": "python",
   "nbconvert_exporter": "python",
   "pygments_lexer": "ipython3",
   "version": "3.9.15"
  },
  "orig_nbformat": 4,
  "vscode": {
   "interpreter": {
    "hash": "4266e6dace8d85e8ef498d0cc69dcc6a84862bc500ae4a3e32d3d9776d1ca4f0"
   }
  }
 },
 "nbformat": 4,
 "nbformat_minor": 2
}
